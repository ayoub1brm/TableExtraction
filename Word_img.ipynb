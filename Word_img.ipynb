{
 "cells": [
  {
   "cell_type": "markdown",
   "id": "cac0846f-86a1-47ab-bf86-5d60892975b7",
   "metadata": {},
   "source": [
    "# Try the Word2Pdf and Pdf2img solution"
   ]
  },
  {
   "cell_type": "markdown",
   "id": "3f7474f3-aaba-4514-a651-ef787f1fd115",
   "metadata": {},
   "source": [
    "## Word2pdf "
   ]
  },
  {
   "cell_type": "markdown",
   "id": "8d4d0361-c6c5-49ad-9a7f-89a5ed43acec",
   "metadata": {},
   "source": [
    "#### 1ère solution trouvé utilisant pandoc"
   ]
  },
  {
   "cell_type": "code",
   "execution_count": 1,
   "id": "7759b5f7-b7dc-4870-b89a-c93f4ec70162",
   "metadata": {},
   "outputs": [
    {
     "name": "stdout",
     "output_type": "stream",
     "text": [
      "Collecting pypandoc\n",
      "  Downloading pypandoc-1.13-py3-none-any.whl.metadata (16 kB)\n",
      "Downloading pypandoc-1.13-py3-none-any.whl (21 kB)\n",
      "Installing collected packages: pypandoc\n",
      "Successfully installed pypandoc-1.13\n",
      "Note: you may need to restart the kernel to use updated packages.\n"
     ]
    }
   ],
   "source": [
    "pip install pypandoc"
   ]
  },
  {
   "cell_type": "code",
   "execution_count": 7,
   "id": "0dd6b6a9-e2f5-424b-8c7c-3842a7c8abf0",
   "metadata": {},
   "outputs": [],
   "source": [
    "import pypandoc\n",
    "\n",
    "# Ensure Pandoc is available\n",
    "try:\n",
    "    # Try to convert a simple text to check if Pandoc is installed and working\n",
    "    pypandoc.convert_text('Hello, world!', 'pdf', format='md')\n",
    "except OSError:\n",
    "    # Pandoc is not found, download it\n",
    "    pypandoc.download_pandoc()\n",
    "\n",
    "def convert_docx_to_pdf(input_path, output_path):\n",
    "    # Use Pandoc to convert the file\n",
    "    output = pypandoc.convert_file(input_path, 'pdf', outputfile=output_path)\n",
    "    assert output == \"\"  # Output should be empty on successful conversion\n",
    "\n",
    "# Example usage\n",
    "convert_docx_to_pdf('test.docx', 'output.pdf')"
   ]
  },
  {
   "cell_type": "markdown",
   "id": "a92f82ee-8288-482b-8cf3-a8b71e7d25ab",
   "metadata": {},
   "source": [
    "## Pdf2img"
   ]
  },
  {
   "cell_type": "code",
   "execution_count": 13,
   "id": "7dcd5660-988e-48f2-93ed-cd96fe2dd37d",
   "metadata": {},
   "outputs": [
    {
     "name": "stdout",
     "output_type": "stream",
     "text": [
      "Collecting pdf2image\n",
      "  Downloading pdf2image-1.17.0-py3-none-any.whl.metadata (6.2 kB)\n",
      "Requirement already satisfied: pillow in /opt/mamba/lib/python3.11/site-packages (from pdf2image) (10.3.0)\n",
      "Downloading pdf2image-1.17.0-py3-none-any.whl (11 kB)\n",
      "Installing collected packages: pdf2image\n",
      "Successfully installed pdf2image-1.17.0\n",
      "Note: you may need to restart the kernel to use updated packages.\n"
     ]
    }
   ],
   "source": [
    "pip install pdf2image"
   ]
  },
  {
   "cell_type": "code",
   "execution_count": 3,
   "id": "26c58b4f-1170-46bb-ba5b-e4f17a11a125",
   "metadata": {},
   "outputs": [],
   "source": [
    "from pdf2image import convert_from_path\n",
    "\n",
    "def convert_pdf_to_images(pdf_path, output_folder):\n",
    "    # Convert PDF to a list of images\n",
    "    images = convert_from_path(pdf_path, dpi=200)  # Specify the DPI (quality)\n",
    "\n",
    "    # Save each page as an image in the output folder\n",
    "    for i, image in enumerate(images):\n",
    "        image.save(f'{output_folder}page_{i + 1}.jpg', 'JPEG')\n",
    "\n",
    "# Example usage\n",
    "convert_pdf_to_images('output.pdf', '')"
   ]
  }
 ],
 "metadata": {
  "kernelspec": {
   "display_name": "Python 3 (ipykernel)",
   "language": "python",
   "name": "python3"
  },
  "language_info": {
   "codemirror_mode": {
    "name": "ipython",
    "version": 3
   },
   "file_extension": ".py",
   "mimetype": "text/x-python",
   "name": "python",
   "nbconvert_exporter": "python",
   "pygments_lexer": "ipython3",
   "version": "3.11.6"
  }
 },
 "nbformat": 4,
 "nbformat_minor": 5
}
